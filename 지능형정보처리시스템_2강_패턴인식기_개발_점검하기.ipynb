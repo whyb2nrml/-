{
  "nbformat": 4,
  "nbformat_minor": 0,
  "metadata": {
    "colab": {
      "name": "지능형정보처리시스템_2강_패턴인식기 개발_점검하기.ipynb",
      "provenance": [],
      "collapsed_sections": [],
      "include_colab_link": true
    },
    "kernelspec": {
      "name": "python3",
      "display_name": "Python 3"
    },
    "language_info": {
      "name": "python"
    }
  },
  "cells": [
    {
      "cell_type": "markdown",
      "metadata": {
        "id": "view-in-github",
        "colab_type": "text"
      },
      "source": [
        "<a href=\"https://colab.research.google.com/github/whyb2nrml/KNOU/blob/main/%EC%A7%80%EB%8A%A5%ED%98%95%EC%A0%95%EB%B3%B4%EC%B2%98%EB%A6%AC%EC%8B%9C%EC%8A%A4%ED%85%9C_2%EA%B0%95_%ED%8C%A8%ED%84%B4%EC%9D%B8%EC%8B%9D%EA%B8%B0_%EA%B0%9C%EB%B0%9C_%EC%A0%90%EA%B2%80%ED%95%98%EA%B8%B0.ipynb\" target=\"_parent\"><img src=\"https://colab.research.google.com/assets/colab-badge.svg\" alt=\"Open In Colab\"/></a>"
      ]
    },
    {
      "cell_type": "markdown",
      "source": [
        "Q1. 매트랩을 이용하여 다음 단계를 따라 간단한 분류 실험을 해 보시오.\n",
        "    아래에 정의된 평균과 공분산을 가진 가우시안 분포를 따르는 두 클래스에\n",
        "    대하여 각각 25개의 학습 데이터와 25개의 테스트 데이터를 생성하여 \n",
        "    2차원 평면상의 산점도가 어떻게 나오는지 설명하시오."
      ],
      "metadata": {
        "id": "XNeYTWgrAD7a"
      }
    },
    {
      "cell_type": "code",
      "source": [
        "import numpy as np\n",
        "from scipy.linalg import sqrtm\n",
        "import matplotlib.pyplot as plt"
      ],
      "metadata": {
        "id": "KBP_G2hmArsU"
      },
      "execution_count": null,
      "outputs": []
    },
    {
      "cell_type": "code",
      "source": [
        "n = 25\n",
        "m1 = np.full((n, 2), [3,5])\n",
        "m2 = np.full((n, 2), [5,3])\n",
        "\n",
        "m1, m2"
      ],
      "metadata": {
        "id": "VRPJuIlABOZO"
      },
      "execution_count": null,
      "outputs": []
    },
    {
      "cell_type": "code",
      "source": [
        "s1 = np.full((2,2), [[1,1], [1,2]])\n",
        "s2 = s1\n",
        "s1"
      ],
      "metadata": {
        "colab": {
          "base_uri": "https://localhost:8080/"
        },
        "id": "5ibSHAGkDMbS",
        "outputId": "bf8753fb-f753-4119-ebc2-b08f3d34ad2f"
      },
      "execution_count": null,
      "outputs": [
        {
          "output_type": "execute_result",
          "data": {
            "text/plain": [
              "array([[1, 1],\n",
              "       [1, 2]])"
            ]
          },
          "metadata": {},
          "execution_count": 263
        }
      ]
    },
    {
      "cell_type": "code",
      "source": [
        "np.random.seed(313)\n",
        "\n",
        "X1 = np.random.normal(0, 1, size=(n,2))\n",
        "X1 = np.dot(X1, sqrtm(s1)) + m1\n",
        "X2 = np.random.normal(0, 1, size=(n,2))\n",
        "X2 = np.dot(X2, sqrtm(s2)) + m2\n",
        "\n",
        "plt.figure(figsize=(7,5))\n",
        "plt.plot(X1[:, 0], X1[:, 1], 'ks', X2[:, 0], X2[:, 1], 'kx')\n",
        "plt.show()"
      ],
      "metadata": {
        "colab": {
          "base_uri": "https://localhost:8080/",
          "height": 320
        },
        "id": "kS8jpQdMGXwO",
        "outputId": "9e38d3e1-6a3a-40ba-bd63-67a745944c89"
      },
      "execution_count": null,
      "outputs": [
        {
          "output_type": "display_data",
          "data": {
            "image/png": "[encoded data removed]",
            "text/plain": [
              "<Figure size 504x360 with 1 Axes>"
            ]
          },
          "metadata": {
            "needs_background": "light"
          }
        }
      ]
    },
    {
      "cell_type": "markdown",
      "source": [
        "Q2. 학습 데이터를 이용하여 각 클래스의 평균과 공분산을 추정해 보고,\n",
        "    (1)에서 정의한 실평균과 실공분산 값과 비교해 보시오."
      ],
      "metadata": {
        "id": "JS9STMiMZUvD"
      }
    },
    {
      "cell_type": "code",
      "source": [
        "m1q2 = np.full((1,2), [X1[:, 0].mean(), X1[:, 1].mean()])\n",
        "m2q2 = np.full((1,2), [X2[:, 0].mean(), X2[:, 1].mean()])\n",
        "s1q2 = np.cov(X1[:, 0], X1[:, 1])\n",
        "s2q2 = np.cov(X2[:, 0], X2[:, 1])\n",
        "\n",
        "print(m1q2,m2q2,s1q2,s2q2, sep='\\n\\n')"
      ],
      "metadata": {
        "colab": {
          "base_uri": "https://localhost:8080/"
        },
        "id": "t1mfugYZcKop",
        "outputId": "db3ab55c-32b9-41ac-cbab-9bb102db0c0c"
      },
      "execution_count": null,
      "outputs": [
        {
          "output_type": "stream",
          "name": "stdout",
          "text": [
            "[[2.63171898 4.86943545]]\n",
            "\n",
            "[[5.31405678 3.38929376]]\n",
            "\n",
            "[[1.06164529 0.90435198]\n",
            " [0.90435198 2.05758529]]\n",
            "\n",
            "[[0.89246353 0.8566874 ]\n",
            " [0.8566874  1.70836337]]\n"
          ]
        }
      ]
    },
    {
      "cell_type": "code",
      "source": [
        "# Q3. (2)에서 계산한 평균을 이용하여 결정경계식을 찾아보고,\n",
        "#     그래프를 설명해 보시오.    "
      ],
      "metadata": {
        "id": "kWp0TSmxZaIS"
      },
      "execution_count": null,
      "outputs": []
    },
    {
      "cell_type": "code",
      "source": [
        "np.random.seed(313)\n",
        "\n",
        "X1q3 = np.random.normal(0, 1, size=(n,2))\n",
        "X1q3 = np.dot(X1q3, sqrtm(s1q2)) + m1q2\n",
        "X2q3 = np.random.normal(0, 1, size=(n,2))\n",
        "X2q3 = np.dot(X2q3, sqrtm(s2q2)) + m2q2\n",
        "\n",
        "plt.figure(figsize=(7,5))\n",
        "plt.plot( X1q3[:, 0], X1q3[:, 1], 'ks'\n",
        "        , X2q3[:, 0], X2q3[:, 1], 'kx'\n",
        "        , [0,8], [0,8], 'red')\n",
        "plt.fill_between([0, 8], [0, 8], alpha=0.2)\n",
        "plt.fill_between([0, 8], 8, [0,8], alpha=0.2)\n",
        "plt.show()"
      ],
      "metadata": {
        "colab": {
          "base_uri": "https://localhost:8080/",
          "height": 320
        },
        "id": "p8aL9bzdB-k3",
        "outputId": "7998c69d-79f1-45e1-96d0-8447fcf86057"
      },
      "execution_count": null,
      "outputs": [
        {
          "output_type": "display_data",
          "data": {
            "image/png": "[encoded data removed]",
            "text/plain": [
              "<Figure size 504x360 with 1 Axes>"
            ]
          },
          "metadata": {
            "needs_background": "light"
          }
        }
      ]
    },
    {
      "cell_type": "code",
      "source": [
        "# Q4. (3)에서 찾은 결정경계를 이용하여 학습 데이터와 테스트 데이터에 대해\n",
        "#     분류를 수행하고, 분류오차를 계산해 보시오."
      ],
      "metadata": {
        "id": "9h_sB8YeZngk"
      },
      "execution_count": null,
      "outputs": []
    },
    {
      "cell_type": "code",
      "source": [
        "err = 0\n",
        "ttl = 50\n",
        "n = X1q3.shape[0]\n",
        "for i in range(n):\n",
        "  d1 = np.linalg.norm(X1q3[i] - m1q2)\n",
        "  d2 = np.linalg.norm(X1q3[i] - m2q2)\n",
        "  if (d1-d2) > 0:\n",
        "    err += 1\n",
        "  else:\n",
        "    pass\n",
        "  d1 = np.linalg.norm(X2q3[i] - m1q2)\n",
        "  d2 = np.linalg.norm(X2q3[i] - m2q2)\n",
        "  if (d1-d2) < 0:\n",
        "    err += 1\n",
        "  else:\n",
        "    pass\n",
        "\n",
        "print(f'{err}/{ttl}')"
      ],
      "metadata": {
        "colab": {
          "base_uri": "https://localhost:8080/"
        },
        "id": "lf1YpNBADqTf",
        "outputId": "3a4ade14-0a29-4088-beeb-2aceae6c17f8"
      },
      "execution_count": null,
      "outputs": [
        {
          "output_type": "stream",
          "name": "stdout",
          "text": [
            "1/50\n"
          ]
        }
      ]
    },
    {
      "cell_type": "code",
      "source": [
        "# Q5. 테스트 데이터와는 별도로 충분히 많은 양의 데이터를 생성하여\n",
        "#     일반화오차의 근사값을 계산해 보시오."
      ],
      "metadata": {
        "id": "vy81SUIBZqPE"
      },
      "execution_count": null,
      "outputs": []
    },
    {
      "cell_type": "code",
      "source": [
        "n = 5000\n",
        "m1 = np.full((n, 2), [3,5])\n",
        "m2 = np.full((n, 2), [5,3])\n",
        "s1 = np.full((2,2), [[1,1], [1,2]])\n",
        "s2 = s1\n",
        "\n",
        "np.random.seed(1740)\n",
        "\n",
        "t1 = np.random.normal(0, 1, size=(n,2))\n",
        "t1 = np.dot(t1, sqrtm(s1)) + m1\n",
        "t2 = np.random.normal(0, 1, size=(n,2))\n",
        "t2 = np.dot(t2, sqrtm(s2)) + m2\n",
        "\n",
        "plt.figure(figsize=(7,5))\n",
        "plt.plot(t1[:, 0], t1[:, 1], 'ks', t2[:, 0], t2[:, 1], 'kx')\n",
        "plt.show()"
      ],
      "metadata": {
        "colab": {
          "base_uri": "https://localhost:8080/",
          "height": 320
        },
        "id": "H_tHTODtZsIv",
        "outputId": "77fb2a6a-7d3c-4e9a-f599-aaa52a26ece6"
      },
      "execution_count": null,
      "outputs": [
        {
          "output_type": "display_data",
          "data": {
            "image/png": "[encoded data removed]",
            "text/plain": [
              "<Figure size 504x360 with 1 Axes>"
            ]
          },
          "metadata": {
            "needs_background": "light"
          }
        }
      ]
    },
    {
      "cell_type": "code",
      "source": [
        "err = 0\n",
        "ttl = 5000\n",
        "n = t1.shape[0]\n",
        "for i in range(n):\n",
        "  d1 = np.linalg.norm(t1[i] - m1)\n",
        "  d2 = np.linalg.norm(t1[i] - m2)\n",
        "  if (d1-d2) > 0:\n",
        "    err += 1\n",
        "  else:\n",
        "    pass\n",
        "  d1 = np.linalg.norm(t2[i] - m1)\n",
        "  d2 = np.linalg.norm(t2[i] - m2)\n",
        "  if (d1-d2) < 0:\n",
        "    err += 1\n",
        "  else:\n",
        "    pass\n",
        "\n",
        "print(\"오류분류 개수: \"f'{err}/{ttl}', \"오류율: \" + str(err/ttl*100) + '%', sep='\\n')"
      ],
      "metadata": {
        "colab": {
          "base_uri": "https://localhost:8080/"
        },
        "id": "_F3kQcUn2m0z",
        "outputId": "e2db4aaa-3d20-437d-ca64-05abe1a83c97"
      },
      "execution_count": null,
      "outputs": [
        {
          "output_type": "stream",
          "name": "stdout",
          "text": [
            "오류분류 개수: 221/5000\n",
            "오류율: 4.42%\n"
          ]
        }
      ]
    },
    {
      "cell_type": "code",
      "source": [
        "# 숫자 데이터의 분류"
      ],
      "metadata": {
        "id": "d1kwSq893YMz"
      },
      "execution_count": null,
      "outputs": []
    },
    {
      "cell_type": "code",
      "source": [
        "import matplotlib.image as img\n",
        "import os\n",
        "import numpy as np"
      ],
      "metadata": {
        "id": "AKjJOWw43aW-"
      },
      "execution_count": null,
      "outputs": []
    },
    {
      "cell_type": "code",
      "source": [
        "path = os.getcwd()\n",
        "path"
      ],
      "metadata": {
        "colab": {
          "base_uri": "https://localhost:8080/",
          "height": 35
        },
        "id": "tvxNXRqrOJ--",
        "outputId": "b166dcfe-b043-4762-98d4-d934987bc49e"
      },
      "execution_count": null,
      "outputs": [
        {
          "output_type": "execute_result",
          "data": {
            "application/vnd.google.colaboratory.intrinsic+json": {
              "type": "string"
            },
            "text/plain": [
              "'/content'"
            ]
          },
          "metadata": {},
          "execution_count": 2
        }
      ]
    },
    {
      "cell_type": "code",
      "source": [
        "i=0;j=3\n",
        "fn = img.imread(os.path.join(path, f'digit{i}_{j}.bmp'))\n",
        "fn = fn[:,:,0]\n",
        "fn = fn.reshape(-1,1)\n",
        "type(fn)"
      ],
      "metadata": {
        "colab": {
          "base_uri": "https://localhost:8080/"
        },
        "id": "LLk0CCxLld1A",
        "outputId": "462bc712-32ca-4223-dd98-89ccd201c387"
      },
      "execution_count": null,
      "outputs": [
        {
          "output_type": "execute_result",
          "data": {
            "text/plain": [
              "numpy.ndarray"
            ]
          },
          "metadata": {},
          "execution_count": 3
        }
      ]
    },
    {
      "cell_type": "code",
      "source": [
        "Xtrain = np.empty((320,0))\n",
        "Ttrain = np.array([])\n",
        "for i in range(10):\n",
        "  for j in range(3, 8):\n",
        "    # print(f'digit{i}_{j}')\n",
        "    fn = img.imread(os.path.join(path, f'digit{i}_{j}.bmp'))\n",
        "    fn = fn[:,:,0]\n",
        "    fn = fn.reshape(-1,1)\n",
        "    # i = np.array([0])\n",
        "    Xtrain = np.append(Xtrain, fn, axis=1)\n",
        "    Ttrain = np.append(Ttrain, np.array([i]))"
      ],
      "metadata": {
        "id": "VRHqGCTPOTTU"
      },
      "execution_count": null,
      "outputs": []
    },
    {
      "cell_type": "code",
      "source": [
        "Xtest = np.empty((320,0))\n",
        "Ttest = np.array([])\n",
        "for i in range(10):\n",
        "  for j in range(1, 3):\n",
        "    # print(f'digit{i}_{j}')\n",
        "    fn = img.imread(os.path.join(path, f'digit{i}_{j}.bmp'))\n",
        "    fn = fn[:,:,0]\n",
        "    fn = fn.reshape(-1,1)\n",
        "    # i = np.array([0])\n",
        "    Xtest = np.append(Xtest, fn, axis=1)\n",
        "    Ttest = np.append(Ttest, np.array([i]))"
      ],
      "metadata": {
        "id": "DLihtqR7exFm"
      },
      "execution_count": null,
      "outputs": []
    },
    {
      "cell_type": "code",
      "source": [
        "mX = np.empty((320,0))\n",
        "for i in range(10):\n",
        "  npm = np.mean(Xtrain[:, (5*i):(5*i+5)], axis=1)\n",
        "  npm = npm.reshape(-1,1)\n",
        "  mX = np.append(mX, npm, axis=1)"
      ],
      "metadata": {
        "id": "66nqmvZYxHfY"
      },
      "execution_count": null,
      "outputs": []
    },
    {
      "cell_type": "code",
      "source": [
        "mX = mX*255\n",
        "mX = mX.astype('uint8')\n",
        "mX.dtype"
      ],
      "metadata": {
        "colab": {
          "base_uri": "https://localhost:8080/"
        },
        "id": "JMs_29GYsumo",
        "outputId": "b3ca3f33-2e99-48d1-b78f-64dadb527096"
      },
      "execution_count": null,
      "outputs": [
        {
          "output_type": "execute_result",
          "data": {
            "text/plain": [
              "dtype('uint8')"
            ]
          },
          "metadata": {},
          "execution_count": 26
        }
      ]
    },
    {
      "cell_type": "code",
      "source": [
        "for i in range(mX.shape[1]):\n",
        "  a = mX[:, i].reshape(20,16)\n",
        "  # plt.subplot(1, 10, i+1)\n",
        "  plt.imshow(a)\n",
        "  plt.show()"
      ],
      "metadata": {
        "id": "u7TENCaaMLlu"
      },
      "execution_count": null,
      "outputs": []
    },
    {
      "cell_type": "code",
      "source": [
        "# x = Xtrain[:, 0]\n",
        "# dist = np.array([])\n",
        "dist = np.append(dist, np.linalg.norm(x - mX[:, 2]))"
      ],
      "metadata": {
        "id": "YaHNILttQPCj"
      },
      "execution_count": null,
      "outputs": []
    },
    {
      "cell_type": "code",
      "source": [
        "dist.min()"
      ],
      "metadata": {
        "colab": {
          "base_uri": "https://localhost:8080/"
        },
        "id": "jJDzWzagQsz5",
        "outputId": "f3637039-2ce2-4db8-c364-addeefcaa9f5"
      },
      "execution_count": null,
      "outputs": [
        {
          "output_type": "execute_result",
          "data": {
            "text/plain": [
              "3082.7560720887404"
            ]
          },
          "metadata": {},
          "execution_count": 56
        }
      ]
    },
    {
      "cell_type": "code",
      "source": [
        "for i in Xtrain.shape[1]:\n",
        "  x = Xtrain[:, i]\n",
        "  dist = []\n",
        "  for j in range(10):\n",
        "    dist.append(np.linalg.norm(x - mX[:, j]))\n",
        "  "
      ],
      "metadata": {
        "id": "tOtjIyPSOawF"
      },
      "execution_count": null,
      "outputs": []
    }
  ]
}